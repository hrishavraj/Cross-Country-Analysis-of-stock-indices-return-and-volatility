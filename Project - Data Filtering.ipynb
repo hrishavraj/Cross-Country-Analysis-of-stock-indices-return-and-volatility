{
 "cells": [
  {
   "cell_type": "code",
   "execution_count": 1,
   "metadata": {},
   "outputs": [],
   "source": [
    "import numpy as np\n",
    "import pandas as pd"
   ]
  },
  {
   "cell_type": "code",
   "execution_count": 2,
   "metadata": {},
   "outputs": [],
   "source": [
    "sse = pd.read_csv(r\"C:\\Users\\hrish\\Desktop\\Summer Project\\Data\\UK\\FTSE 100 Index Data.csv\")"
   ]
  },
  {
   "cell_type": "code",
   "execution_count": 3,
   "metadata": {},
   "outputs": [
    {
     "data": {
      "text/html": [
       "<div>\n",
       "<style scoped>\n",
       "    .dataframe tbody tr th:only-of-type {\n",
       "        vertical-align: middle;\n",
       "    }\n",
       "\n",
       "    .dataframe tbody tr th {\n",
       "        vertical-align: top;\n",
       "    }\n",
       "\n",
       "    .dataframe thead th {\n",
       "        text-align: right;\n",
       "    }\n",
       "</style>\n",
       "<table border=\"1\" class=\"dataframe\">\n",
       "  <thead>\n",
       "    <tr style=\"text-align: right;\">\n",
       "      <th></th>\n",
       "      <th>Date</th>\n",
       "      <th>Open</th>\n",
       "      <th>High</th>\n",
       "      <th>Low</th>\n",
       "      <th>Close</th>\n",
       "      <th>Adj Close</th>\n",
       "      <th>Volume</th>\n",
       "    </tr>\n",
       "  </thead>\n",
       "  <tbody>\n",
       "    <tr>\n",
       "      <th>0</th>\n",
       "      <td>02-01-2015</td>\n",
       "      <td>6566.100098</td>\n",
       "      <td>6607.899902</td>\n",
       "      <td>6510.600098</td>\n",
       "      <td>6547.799805</td>\n",
       "      <td>6547.799805</td>\n",
       "      <td>367562200</td>\n",
       "    </tr>\n",
       "    <tr>\n",
       "      <th>1</th>\n",
       "      <td>05-01-2015</td>\n",
       "      <td>6547.799805</td>\n",
       "      <td>6576.700195</td>\n",
       "      <td>6404.500000</td>\n",
       "      <td>6417.200195</td>\n",
       "      <td>6417.200195</td>\n",
       "      <td>728001100</td>\n",
       "    </tr>\n",
       "    <tr>\n",
       "      <th>2</th>\n",
       "      <td>06-01-2015</td>\n",
       "      <td>6417.200195</td>\n",
       "      <td>6452.700195</td>\n",
       "      <td>6328.600098</td>\n",
       "      <td>6366.500000</td>\n",
       "      <td>6366.500000</td>\n",
       "      <td>769463100</td>\n",
       "    </tr>\n",
       "    <tr>\n",
       "      <th>3</th>\n",
       "      <td>07-01-2015</td>\n",
       "      <td>6366.500000</td>\n",
       "      <td>6459.700195</td>\n",
       "      <td>6366.500000</td>\n",
       "      <td>6419.799805</td>\n",
       "      <td>6419.799805</td>\n",
       "      <td>688211500</td>\n",
       "    </tr>\n",
       "    <tr>\n",
       "      <th>4</th>\n",
       "      <td>08-01-2015</td>\n",
       "      <td>6419.799805</td>\n",
       "      <td>6580.799805</td>\n",
       "      <td>6419.799805</td>\n",
       "      <td>6570.000000</td>\n",
       "      <td>6570.000000</td>\n",
       "      <td>882740200</td>\n",
       "    </tr>\n",
       "  </tbody>\n",
       "</table>\n",
       "</div>"
      ],
      "text/plain": [
       "         Date         Open         High          Low        Close  \\\n",
       "0  02-01-2015  6566.100098  6607.899902  6510.600098  6547.799805   \n",
       "1  05-01-2015  6547.799805  6576.700195  6404.500000  6417.200195   \n",
       "2  06-01-2015  6417.200195  6452.700195  6328.600098  6366.500000   \n",
       "3  07-01-2015  6366.500000  6459.700195  6366.500000  6419.799805   \n",
       "4  08-01-2015  6419.799805  6580.799805  6419.799805  6570.000000   \n",
       "\n",
       "     Adj Close     Volume  \n",
       "0  6547.799805  367562200  \n",
       "1  6417.200195  728001100  \n",
       "2  6366.500000  769463100  \n",
       "3  6419.799805  688211500  \n",
       "4  6570.000000  882740200  "
      ]
     },
     "execution_count": 3,
     "metadata": {},
     "output_type": "execute_result"
    }
   ],
   "source": [
    "sse.head(5)"
   ]
  },
  {
   "cell_type": "code",
   "execution_count": 4,
   "metadata": {},
   "outputs": [],
   "source": [
    "sse.drop(['Open','High','Low','Adj Close'], axis =1, inplace=True)"
   ]
  },
  {
   "cell_type": "code",
   "execution_count": 5,
   "metadata": {},
   "outputs": [
    {
     "data": {
      "text/html": [
       "<div>\n",
       "<style scoped>\n",
       "    .dataframe tbody tr th:only-of-type {\n",
       "        vertical-align: middle;\n",
       "    }\n",
       "\n",
       "    .dataframe tbody tr th {\n",
       "        vertical-align: top;\n",
       "    }\n",
       "\n",
       "    .dataframe thead th {\n",
       "        text-align: right;\n",
       "    }\n",
       "</style>\n",
       "<table border=\"1\" class=\"dataframe\">\n",
       "  <thead>\n",
       "    <tr style=\"text-align: right;\">\n",
       "      <th></th>\n",
       "      <th>Date</th>\n",
       "      <th>Close</th>\n",
       "      <th>Volume</th>\n",
       "    </tr>\n",
       "  </thead>\n",
       "  <tbody>\n",
       "    <tr>\n",
       "      <th>0</th>\n",
       "      <td>02-01-2015</td>\n",
       "      <td>6547.799805</td>\n",
       "      <td>367562200</td>\n",
       "    </tr>\n",
       "    <tr>\n",
       "      <th>1</th>\n",
       "      <td>05-01-2015</td>\n",
       "      <td>6417.200195</td>\n",
       "      <td>728001100</td>\n",
       "    </tr>\n",
       "    <tr>\n",
       "      <th>2</th>\n",
       "      <td>06-01-2015</td>\n",
       "      <td>6366.500000</td>\n",
       "      <td>769463100</td>\n",
       "    </tr>\n",
       "    <tr>\n",
       "      <th>3</th>\n",
       "      <td>07-01-2015</td>\n",
       "      <td>6419.799805</td>\n",
       "      <td>688211500</td>\n",
       "    </tr>\n",
       "    <tr>\n",
       "      <th>4</th>\n",
       "      <td>08-01-2015</td>\n",
       "      <td>6570.000000</td>\n",
       "      <td>882740200</td>\n",
       "    </tr>\n",
       "  </tbody>\n",
       "</table>\n",
       "</div>"
      ],
      "text/plain": [
       "         Date        Close     Volume\n",
       "0  02-01-2015  6547.799805  367562200\n",
       "1  05-01-2015  6417.200195  728001100\n",
       "2  06-01-2015  6366.500000  769463100\n",
       "3  07-01-2015  6419.799805  688211500\n",
       "4  08-01-2015  6570.000000  882740200"
      ]
     },
     "execution_count": 5,
     "metadata": {},
     "output_type": "execute_result"
    }
   ],
   "source": [
    "sse.head()"
   ]
  },
  {
   "cell_type": "code",
   "execution_count": 6,
   "metadata": {},
   "outputs": [],
   "source": [
    "iip = pd.read_excel(r\"C:\\Users\\hrish\\Desktop\\Summer Project\\Data\\UK\\UK IIP.xlsx\")"
   ]
  },
  {
   "cell_type": "code",
   "execution_count": 7,
   "metadata": {},
   "outputs": [
    {
     "data": {
      "text/html": [
       "<div>\n",
       "<style scoped>\n",
       "    .dataframe tbody tr th:only-of-type {\n",
       "        vertical-align: middle;\n",
       "    }\n",
       "\n",
       "    .dataframe tbody tr th {\n",
       "        vertical-align: top;\n",
       "    }\n",
       "\n",
       "    .dataframe thead th {\n",
       "        text-align: right;\n",
       "    }\n",
       "</style>\n",
       "<table border=\"1\" class=\"dataframe\">\n",
       "  <thead>\n",
       "    <tr style=\"text-align: right;\">\n",
       "      <th></th>\n",
       "      <th>Proxy</th>\n",
       "      <th>Index</th>\n",
       "    </tr>\n",
       "  </thead>\n",
       "  <tbody>\n",
       "    <tr>\n",
       "      <th>0</th>\n",
       "      <td>Jan-2015</td>\n",
       "      <td>99.34</td>\n",
       "    </tr>\n",
       "    <tr>\n",
       "      <th>1</th>\n",
       "      <td>Feb-2015</td>\n",
       "      <td>99.74</td>\n",
       "    </tr>\n",
       "    <tr>\n",
       "      <th>2</th>\n",
       "      <td>Mar-2015</td>\n",
       "      <td>100.24</td>\n",
       "    </tr>\n",
       "    <tr>\n",
       "      <th>3</th>\n",
       "      <td>Apr-2015</td>\n",
       "      <td>100.34</td>\n",
       "    </tr>\n",
       "    <tr>\n",
       "      <th>4</th>\n",
       "      <td>May-2015</td>\n",
       "      <td>100.55</td>\n",
       "    </tr>\n",
       "  </tbody>\n",
       "</table>\n",
       "</div>"
      ],
      "text/plain": [
       "      Proxy   Index\n",
       "0  Jan-2015   99.34\n",
       "1  Feb-2015   99.74\n",
       "2  Mar-2015  100.24\n",
       "3  Apr-2015  100.34\n",
       "4  May-2015  100.55"
      ]
     },
     "execution_count": 7,
     "metadata": {},
     "output_type": "execute_result"
    }
   ],
   "source": [
    "iip.head()"
   ]
  },
  {
   "cell_type": "code",
   "execution_count": 8,
   "metadata": {},
   "outputs": [],
   "source": [
    "c = []; v=[]; i = 0\n",
    "f = iip.shape[0]\n",
    "while (i < f):\n",
    "    date = pd.datetime.strptime(iip['Proxy'][i], \"%b-%Y\")\n",
    "    c.append(date.month)\n",
    "    v.append(date.year)\n",
    "    i = i+1\n",
    "\n",
    "iip['Month'] = c\n",
    "iip['Year'] = v"
   ]
  },
  {
   "cell_type": "code",
   "execution_count": 9,
   "metadata": {},
   "outputs": [
    {
     "data": {
      "text/plain": [
       "'02-01-2015'"
      ]
     },
     "execution_count": 9,
     "metadata": {},
     "output_type": "execute_result"
    }
   ],
   "source": [
    "sse['Date'][0]"
   ]
  },
  {
   "cell_type": "code",
   "execution_count": 10,
   "metadata": {},
   "outputs": [],
   "source": [
    "date = pd.datetime.strptime(sse['Date'][0], \"%d-%m-%Y\")"
   ]
  },
  {
   "cell_type": "code",
   "execution_count": 11,
   "metadata": {},
   "outputs": [
    {
     "data": {
      "text/plain": [
       "datetime.datetime(2015, 1, 2, 0, 0)"
      ]
     },
     "execution_count": 11,
     "metadata": {},
     "output_type": "execute_result"
    }
   ],
   "source": [
    "date"
   ]
  },
  {
   "cell_type": "code",
   "execution_count": 12,
   "metadata": {},
   "outputs": [
    {
     "data": {
      "text/plain": [
       "2015"
      ]
     },
     "execution_count": 12,
     "metadata": {},
     "output_type": "execute_result"
    }
   ],
   "source": [
    "date.year"
   ]
  },
  {
   "cell_type": "code",
   "execution_count": 13,
   "metadata": {},
   "outputs": [
    {
     "data": {
      "text/plain": [
       "1"
      ]
     },
     "execution_count": 13,
     "metadata": {},
     "output_type": "execute_result"
    }
   ],
   "source": [
    "date.month"
   ]
  },
  {
   "cell_type": "code",
   "execution_count": 14,
   "metadata": {},
   "outputs": [],
   "source": [
    "a = sse.shape[0]"
   ]
  },
  {
   "cell_type": "code",
   "execution_count": 15,
   "metadata": {},
   "outputs": [],
   "source": [
    "c = []; i = 0\n",
    "g=[]; v=[]\n",
    "while (i < a):\n",
    "    date = pd.datetime.strptime(sse['Date'][i], \"%d-%m-%Y\")\n",
    "    c.append(date.month)\n",
    "    g.append(date.day)\n",
    "    v.append(date.year)\n",
    "    i = i+1"
   ]
  },
  {
   "cell_type": "code",
   "execution_count": 17,
   "metadata": {},
   "outputs": [
    {
     "data": {
      "text/plain": [
       "True"
      ]
     },
     "execution_count": 17,
     "metadata": {},
     "output_type": "execute_result"
    }
   ],
   "source": [
    "len(c) == a"
   ]
  },
  {
   "cell_type": "code",
   "execution_count": 18,
   "metadata": {},
   "outputs": [],
   "source": [
    "sse['Month'] = c\n",
    "sse['Day'] =g\n",
    "sse['Year'] = v"
   ]
  },
  {
   "cell_type": "code",
   "execution_count": 19,
   "metadata": {},
   "outputs": [
    {
     "data": {
      "text/html": [
       "<div>\n",
       "<style scoped>\n",
       "    .dataframe tbody tr th:only-of-type {\n",
       "        vertical-align: middle;\n",
       "    }\n",
       "\n",
       "    .dataframe tbody tr th {\n",
       "        vertical-align: top;\n",
       "    }\n",
       "\n",
       "    .dataframe thead th {\n",
       "        text-align: right;\n",
       "    }\n",
       "</style>\n",
       "<table border=\"1\" class=\"dataframe\">\n",
       "  <thead>\n",
       "    <tr style=\"text-align: right;\">\n",
       "      <th></th>\n",
       "      <th>Date</th>\n",
       "      <th>Close</th>\n",
       "      <th>Volume</th>\n",
       "      <th>Month</th>\n",
       "      <th>Day</th>\n",
       "      <th>Year</th>\n",
       "    </tr>\n",
       "  </thead>\n",
       "  <tbody>\n",
       "    <tr>\n",
       "      <th>1048</th>\n",
       "      <td>22-02-2019</td>\n",
       "      <td>7178.600098</td>\n",
       "      <td>646718000</td>\n",
       "      <td>2</td>\n",
       "      <td>22</td>\n",
       "      <td>2019</td>\n",
       "    </tr>\n",
       "    <tr>\n",
       "      <th>1049</th>\n",
       "      <td>25-02-2019</td>\n",
       "      <td>7183.700195</td>\n",
       "      <td>644937500</td>\n",
       "      <td>2</td>\n",
       "      <td>25</td>\n",
       "      <td>2019</td>\n",
       "    </tr>\n",
       "    <tr>\n",
       "      <th>1050</th>\n",
       "      <td>26-02-2019</td>\n",
       "      <td>7151.100098</td>\n",
       "      <td>865719700</td>\n",
       "      <td>2</td>\n",
       "      <td>26</td>\n",
       "      <td>2019</td>\n",
       "    </tr>\n",
       "    <tr>\n",
       "      <th>1051</th>\n",
       "      <td>27-02-2019</td>\n",
       "      <td>7107.200195</td>\n",
       "      <td>870721000</td>\n",
       "      <td>2</td>\n",
       "      <td>27</td>\n",
       "      <td>2019</td>\n",
       "    </tr>\n",
       "    <tr>\n",
       "      <th>1052</th>\n",
       "      <td>28-02-2019</td>\n",
       "      <td>7074.700195</td>\n",
       "      <td>979616900</td>\n",
       "      <td>2</td>\n",
       "      <td>28</td>\n",
       "      <td>2019</td>\n",
       "    </tr>\n",
       "  </tbody>\n",
       "</table>\n",
       "</div>"
      ],
      "text/plain": [
       "            Date        Close     Volume  Month  Day  Year\n",
       "1048  22-02-2019  7178.600098  646718000      2   22  2019\n",
       "1049  25-02-2019  7183.700195  644937500      2   25  2019\n",
       "1050  26-02-2019  7151.100098  865719700      2   26  2019\n",
       "1051  27-02-2019  7107.200195  870721000      2   27  2019\n",
       "1052  28-02-2019  7074.700195  979616900      2   28  2019"
      ]
     },
     "execution_count": 19,
     "metadata": {},
     "output_type": "execute_result"
    }
   ],
   "source": [
    "sse.tail()"
   ]
  },
  {
   "cell_type": "code",
   "execution_count": 20,
   "metadata": {},
   "outputs": [],
   "source": [
    "row = iip.shape[0]"
   ]
  },
  {
   "cell_type": "code",
   "execution_count": 21,
   "metadata": {},
   "outputs": [],
   "source": [
    "d =[]\n",
    "\n",
    "for x in range(0,row):\n",
    "    for y in range(0,a):\n",
    "        if (iip['Month'][x]== sse['Month'][y] and iip['Year'][x]==sse['Year'][y]):  \n",
    "            d.append(iip['Index'][x]) \n",
    "            \n",
    "        else: continue\n",
    "            "
   ]
  },
  {
   "cell_type": "code",
   "execution_count": 22,
   "metadata": {},
   "outputs": [],
   "source": [
    "sse[\"IIP\"] = d"
   ]
  },
  {
   "cell_type": "code",
   "execution_count": 23,
   "metadata": {},
   "outputs": [
    {
     "data": {
      "text/html": [
       "<div>\n",
       "<style scoped>\n",
       "    .dataframe tbody tr th:only-of-type {\n",
       "        vertical-align: middle;\n",
       "    }\n",
       "\n",
       "    .dataframe tbody tr th {\n",
       "        vertical-align: top;\n",
       "    }\n",
       "\n",
       "    .dataframe thead th {\n",
       "        text-align: right;\n",
       "    }\n",
       "</style>\n",
       "<table border=\"1\" class=\"dataframe\">\n",
       "  <thead>\n",
       "    <tr style=\"text-align: right;\">\n",
       "      <th></th>\n",
       "      <th>Date</th>\n",
       "      <th>Close</th>\n",
       "      <th>Volume</th>\n",
       "      <th>Month</th>\n",
       "      <th>Day</th>\n",
       "      <th>Year</th>\n",
       "      <th>IIP</th>\n",
       "    </tr>\n",
       "  </thead>\n",
       "  <tbody>\n",
       "    <tr>\n",
       "      <th>0</th>\n",
       "      <td>02-01-2015</td>\n",
       "      <td>6547.799805</td>\n",
       "      <td>367562200</td>\n",
       "      <td>1</td>\n",
       "      <td>2</td>\n",
       "      <td>2015</td>\n",
       "      <td>99.34</td>\n",
       "    </tr>\n",
       "    <tr>\n",
       "      <th>1</th>\n",
       "      <td>05-01-2015</td>\n",
       "      <td>6417.200195</td>\n",
       "      <td>728001100</td>\n",
       "      <td>1</td>\n",
       "      <td>5</td>\n",
       "      <td>2015</td>\n",
       "      <td>99.34</td>\n",
       "    </tr>\n",
       "    <tr>\n",
       "      <th>2</th>\n",
       "      <td>06-01-2015</td>\n",
       "      <td>6366.500000</td>\n",
       "      <td>769463100</td>\n",
       "      <td>1</td>\n",
       "      <td>6</td>\n",
       "      <td>2015</td>\n",
       "      <td>99.34</td>\n",
       "    </tr>\n",
       "    <tr>\n",
       "      <th>3</th>\n",
       "      <td>07-01-2015</td>\n",
       "      <td>6419.799805</td>\n",
       "      <td>688211500</td>\n",
       "      <td>1</td>\n",
       "      <td>7</td>\n",
       "      <td>2015</td>\n",
       "      <td>99.34</td>\n",
       "    </tr>\n",
       "    <tr>\n",
       "      <th>4</th>\n",
       "      <td>08-01-2015</td>\n",
       "      <td>6570.000000</td>\n",
       "      <td>882740200</td>\n",
       "      <td>1</td>\n",
       "      <td>8</td>\n",
       "      <td>2015</td>\n",
       "      <td>99.34</td>\n",
       "    </tr>\n",
       "  </tbody>\n",
       "</table>\n",
       "</div>"
      ],
      "text/plain": [
       "         Date        Close     Volume  Month  Day  Year    IIP\n",
       "0  02-01-2015  6547.799805  367562200      1    2  2015  99.34\n",
       "1  05-01-2015  6417.200195  728001100      1    5  2015  99.34\n",
       "2  06-01-2015  6366.500000  769463100      1    6  2015  99.34\n",
       "3  07-01-2015  6419.799805  688211500      1    7  2015  99.34\n",
       "4  08-01-2015  6570.000000  882740200      1    8  2015  99.34"
      ]
     },
     "execution_count": 23,
     "metadata": {},
     "output_type": "execute_result"
    }
   ],
   "source": [
    "sse.head()"
   ]
  },
  {
   "cell_type": "code",
   "execution_count": 40,
   "metadata": {},
   "outputs": [],
   "source": [
    "by = pd.read_csv(r\"C:\\Users\\hrish\\Desktop\\Summer Project\\Data\\UK\\United Kingdom 1-Year Bond Yield Historical Data.csv\")"
   ]
  },
  {
   "cell_type": "code",
   "execution_count": 41,
   "metadata": {},
   "outputs": [
    {
     "data": {
      "text/html": [
       "<div>\n",
       "<style scoped>\n",
       "    .dataframe tbody tr th:only-of-type {\n",
       "        vertical-align: middle;\n",
       "    }\n",
       "\n",
       "    .dataframe tbody tr th {\n",
       "        vertical-align: top;\n",
       "    }\n",
       "\n",
       "    .dataframe thead th {\n",
       "        text-align: right;\n",
       "    }\n",
       "</style>\n",
       "<table border=\"1\" class=\"dataframe\">\n",
       "  <thead>\n",
       "    <tr style=\"text-align: right;\">\n",
       "      <th></th>\n",
       "      <th>Date</th>\n",
       "      <th>Price</th>\n",
       "      <th>Open</th>\n",
       "      <th>High</th>\n",
       "      <th>Low</th>\n",
       "      <th>Change %</th>\n",
       "    </tr>\n",
       "  </thead>\n",
       "  <tbody>\n",
       "    <tr>\n",
       "      <th>0</th>\n",
       "      <td>Feb 28, 2019</td>\n",
       "      <td>0.819</td>\n",
       "      <td>0.817</td>\n",
       "      <td>0.840</td>\n",
       "      <td>0.804</td>\n",
       "      <td>-0.73%</td>\n",
       "    </tr>\n",
       "    <tr>\n",
       "      <th>1</th>\n",
       "      <td>Feb 27, 2019</td>\n",
       "      <td>0.825</td>\n",
       "      <td>0.799</td>\n",
       "      <td>0.848</td>\n",
       "      <td>0.787</td>\n",
       "      <td>4.56%</td>\n",
       "    </tr>\n",
       "    <tr>\n",
       "      <th>2</th>\n",
       "      <td>Feb 26, 2019</td>\n",
       "      <td>0.789</td>\n",
       "      <td>0.764</td>\n",
       "      <td>0.800</td>\n",
       "      <td>0.763</td>\n",
       "      <td>2.87%</td>\n",
       "    </tr>\n",
       "    <tr>\n",
       "      <th>3</th>\n",
       "      <td>Feb 25, 2019</td>\n",
       "      <td>0.767</td>\n",
       "      <td>0.750</td>\n",
       "      <td>0.782</td>\n",
       "      <td>0.750</td>\n",
       "      <td>2.13%</td>\n",
       "    </tr>\n",
       "    <tr>\n",
       "      <th>4</th>\n",
       "      <td>Feb 23, 2019</td>\n",
       "      <td>0.751</td>\n",
       "      <td>0.751</td>\n",
       "      <td>0.751</td>\n",
       "      <td>0.751</td>\n",
       "      <td>-2.34%</td>\n",
       "    </tr>\n",
       "  </tbody>\n",
       "</table>\n",
       "</div>"
      ],
      "text/plain": [
       "           Date  Price   Open   High    Low Change %\n",
       "0  Feb 28, 2019  0.819  0.817  0.840  0.804   -0.73%\n",
       "1  Feb 27, 2019  0.825  0.799  0.848  0.787    4.56%\n",
       "2  Feb 26, 2019  0.789  0.764  0.800  0.763    2.87%\n",
       "3  Feb 25, 2019  0.767  0.750  0.782  0.750    2.13%\n",
       "4  Feb 23, 2019  0.751  0.751  0.751  0.751   -2.34%"
      ]
     },
     "execution_count": 41,
     "metadata": {},
     "output_type": "execute_result"
    }
   ],
   "source": [
    "by.head()"
   ]
  },
  {
   "cell_type": "code",
   "execution_count": 42,
   "metadata": {},
   "outputs": [],
   "source": [
    "by.drop(['Open','High','Low'], axis =1, inplace= True)"
   ]
  },
  {
   "cell_type": "code",
   "execution_count": 43,
   "metadata": {},
   "outputs": [
    {
     "data": {
      "text/html": [
       "<div>\n",
       "<style scoped>\n",
       "    .dataframe tbody tr th:only-of-type {\n",
       "        vertical-align: middle;\n",
       "    }\n",
       "\n",
       "    .dataframe tbody tr th {\n",
       "        vertical-align: top;\n",
       "    }\n",
       "\n",
       "    .dataframe thead th {\n",
       "        text-align: right;\n",
       "    }\n",
       "</style>\n",
       "<table border=\"1\" class=\"dataframe\">\n",
       "  <thead>\n",
       "    <tr style=\"text-align: right;\">\n",
       "      <th></th>\n",
       "      <th>Date</th>\n",
       "      <th>Price</th>\n",
       "      <th>Change %</th>\n",
       "    </tr>\n",
       "  </thead>\n",
       "  <tbody>\n",
       "    <tr>\n",
       "      <th>0</th>\n",
       "      <td>Feb 28, 2019</td>\n",
       "      <td>0.819</td>\n",
       "      <td>-0.73%</td>\n",
       "    </tr>\n",
       "    <tr>\n",
       "      <th>1</th>\n",
       "      <td>Feb 27, 2019</td>\n",
       "      <td>0.825</td>\n",
       "      <td>4.56%</td>\n",
       "    </tr>\n",
       "    <tr>\n",
       "      <th>2</th>\n",
       "      <td>Feb 26, 2019</td>\n",
       "      <td>0.789</td>\n",
       "      <td>2.87%</td>\n",
       "    </tr>\n",
       "    <tr>\n",
       "      <th>3</th>\n",
       "      <td>Feb 25, 2019</td>\n",
       "      <td>0.767</td>\n",
       "      <td>2.13%</td>\n",
       "    </tr>\n",
       "    <tr>\n",
       "      <th>4</th>\n",
       "      <td>Feb 23, 2019</td>\n",
       "      <td>0.751</td>\n",
       "      <td>-2.34%</td>\n",
       "    </tr>\n",
       "  </tbody>\n",
       "</table>\n",
       "</div>"
      ],
      "text/plain": [
       "           Date  Price Change %\n",
       "0  Feb 28, 2019  0.819   -0.73%\n",
       "1  Feb 27, 2019  0.825    4.56%\n",
       "2  Feb 26, 2019  0.789    2.87%\n",
       "3  Feb 25, 2019  0.767    2.13%\n",
       "4  Feb 23, 2019  0.751   -2.34%"
      ]
     },
     "execution_count": 43,
     "metadata": {},
     "output_type": "execute_result"
    }
   ],
   "source": [
    "by.head()"
   ]
  },
  {
   "cell_type": "code",
   "execution_count": 44,
   "metadata": {},
   "outputs": [],
   "source": [
    "d1 = pd.datetime.strptime(by['Date'][0], \"%b %d, %Y\")"
   ]
  },
  {
   "cell_type": "code",
   "execution_count": 45,
   "metadata": {},
   "outputs": [
    {
     "data": {
      "text/plain": [
       "2"
      ]
     },
     "execution_count": 45,
     "metadata": {},
     "output_type": "execute_result"
    }
   ],
   "source": [
    "d1.month"
   ]
  },
  {
   "cell_type": "code",
   "execution_count": 46,
   "metadata": {},
   "outputs": [
    {
     "data": {
      "text/html": [
       "<div>\n",
       "<style scoped>\n",
       "    .dataframe tbody tr th:only-of-type {\n",
       "        vertical-align: middle;\n",
       "    }\n",
       "\n",
       "    .dataframe tbody tr th {\n",
       "        vertical-align: top;\n",
       "    }\n",
       "\n",
       "    .dataframe thead th {\n",
       "        text-align: right;\n",
       "    }\n",
       "</style>\n",
       "<table border=\"1\" class=\"dataframe\">\n",
       "  <thead>\n",
       "    <tr style=\"text-align: right;\">\n",
       "      <th></th>\n",
       "      <th>Date</th>\n",
       "      <th>Price</th>\n",
       "      <th>Change %</th>\n",
       "    </tr>\n",
       "  </thead>\n",
       "  <tbody>\n",
       "    <tr>\n",
       "      <th>1236</th>\n",
       "      <td>Jan 07, 2015</td>\n",
       "      <td>0.322</td>\n",
       "      <td>6.27%</td>\n",
       "    </tr>\n",
       "    <tr>\n",
       "      <th>1237</th>\n",
       "      <td>Jan 06, 2015</td>\n",
       "      <td>0.303</td>\n",
       "      <td>-2.57%</td>\n",
       "    </tr>\n",
       "    <tr>\n",
       "      <th>1238</th>\n",
       "      <td>Jan 05, 2015</td>\n",
       "      <td>0.311</td>\n",
       "      <td>2.64%</td>\n",
       "    </tr>\n",
       "    <tr>\n",
       "      <th>1239</th>\n",
       "      <td>Jan 03, 2015</td>\n",
       "      <td>0.303</td>\n",
       "      <td>2.71%</td>\n",
       "    </tr>\n",
       "    <tr>\n",
       "      <th>1240</th>\n",
       "      <td>Jan 02, 2015</td>\n",
       "      <td>0.295</td>\n",
       "      <td>-4.22%</td>\n",
       "    </tr>\n",
       "  </tbody>\n",
       "</table>\n",
       "</div>"
      ],
      "text/plain": [
       "              Date  Price Change %\n",
       "1236  Jan 07, 2015  0.322    6.27%\n",
       "1237  Jan 06, 2015  0.303   -2.57%\n",
       "1238  Jan 05, 2015  0.311    2.64%\n",
       "1239  Jan 03, 2015  0.303    2.71%\n",
       "1240  Jan 02, 2015  0.295   -4.22%"
      ]
     },
     "execution_count": 46,
     "metadata": {},
     "output_type": "execute_result"
    }
   ],
   "source": [
    "by.tail()"
   ]
  },
  {
   "cell_type": "code",
   "execution_count": 47,
   "metadata": {},
   "outputs": [],
   "source": [
    "b = by.shape[0]"
   ]
  },
  {
   "cell_type": "code",
   "execution_count": 48,
   "metadata": {},
   "outputs": [],
   "source": [
    "r = []\n",
    "t =[]\n",
    "f=[]\n",
    "for i in range(0,b):\n",
    "    d1 = pd.datetime.strptime(by['Date'][i], \"%b %d, %Y\")\n",
    "    r.append(d1.month)\n",
    "    t.append(d1.year)\n",
    "    f.append(d1.day)\n",
    "    i = i+1"
   ]
  },
  {
   "cell_type": "code",
   "execution_count": 49,
   "metadata": {},
   "outputs": [],
   "source": [
    "by['Day'] = f\n",
    "by['Month']= r\n",
    "by['Year'] = t"
   ]
  },
  {
   "cell_type": "code",
   "execution_count": 50,
   "metadata": {},
   "outputs": [
    {
     "data": {
      "text/plain": [
       "True"
      ]
     },
     "execution_count": 50,
     "metadata": {},
     "output_type": "execute_result"
    }
   ],
   "source": [
    "len(t) == b"
   ]
  },
  {
   "cell_type": "code",
   "execution_count": 51,
   "metadata": {},
   "outputs": [
    {
     "data": {
      "text/html": [
       "<div>\n",
       "<style scoped>\n",
       "    .dataframe tbody tr th:only-of-type {\n",
       "        vertical-align: middle;\n",
       "    }\n",
       "\n",
       "    .dataframe tbody tr th {\n",
       "        vertical-align: top;\n",
       "    }\n",
       "\n",
       "    .dataframe thead th {\n",
       "        text-align: right;\n",
       "    }\n",
       "</style>\n",
       "<table border=\"1\" class=\"dataframe\">\n",
       "  <thead>\n",
       "    <tr style=\"text-align: right;\">\n",
       "      <th></th>\n",
       "      <th>Date</th>\n",
       "      <th>Close</th>\n",
       "      <th>Volume</th>\n",
       "      <th>Month</th>\n",
       "      <th>Day</th>\n",
       "      <th>Year</th>\n",
       "      <th>IIP</th>\n",
       "      <th>test</th>\n",
       "    </tr>\n",
       "  </thead>\n",
       "  <tbody>\n",
       "    <tr>\n",
       "      <th>0</th>\n",
       "      <td>02-01-2015</td>\n",
       "      <td>6547.799805</td>\n",
       "      <td>367562200</td>\n",
       "      <td>1</td>\n",
       "      <td>2</td>\n",
       "      <td>2015</td>\n",
       "      <td>99.34</td>\n",
       "      <td>0</td>\n",
       "    </tr>\n",
       "    <tr>\n",
       "      <th>1</th>\n",
       "      <td>05-01-2015</td>\n",
       "      <td>6417.200195</td>\n",
       "      <td>728001100</td>\n",
       "      <td>1</td>\n",
       "      <td>5</td>\n",
       "      <td>2015</td>\n",
       "      <td>99.34</td>\n",
       "      <td>0</td>\n",
       "    </tr>\n",
       "    <tr>\n",
       "      <th>2</th>\n",
       "      <td>06-01-2015</td>\n",
       "      <td>6366.500000</td>\n",
       "      <td>769463100</td>\n",
       "      <td>1</td>\n",
       "      <td>6</td>\n",
       "      <td>2015</td>\n",
       "      <td>99.34</td>\n",
       "      <td>0</td>\n",
       "    </tr>\n",
       "    <tr>\n",
       "      <th>3</th>\n",
       "      <td>07-01-2015</td>\n",
       "      <td>6419.799805</td>\n",
       "      <td>688211500</td>\n",
       "      <td>1</td>\n",
       "      <td>7</td>\n",
       "      <td>2015</td>\n",
       "      <td>99.34</td>\n",
       "      <td>0</td>\n",
       "    </tr>\n",
       "    <tr>\n",
       "      <th>4</th>\n",
       "      <td>08-01-2015</td>\n",
       "      <td>6570.000000</td>\n",
       "      <td>882740200</td>\n",
       "      <td>1</td>\n",
       "      <td>8</td>\n",
       "      <td>2015</td>\n",
       "      <td>99.34</td>\n",
       "      <td>0</td>\n",
       "    </tr>\n",
       "  </tbody>\n",
       "</table>\n",
       "</div>"
      ],
      "text/plain": [
       "         Date        Close     Volume  Month  Day  Year    IIP  test\n",
       "0  02-01-2015  6547.799805  367562200      1    2  2015  99.34     0\n",
       "1  05-01-2015  6417.200195  728001100      1    5  2015  99.34     0\n",
       "2  06-01-2015  6366.500000  769463100      1    6  2015  99.34     0\n",
       "3  07-01-2015  6419.799805  688211500      1    7  2015  99.34     0\n",
       "4  08-01-2015  6570.000000  882740200      1    8  2015  99.34     0"
      ]
     },
     "execution_count": 51,
     "metadata": {},
     "output_type": "execute_result"
    }
   ],
   "source": [
    "sse['test']=np.zeros(a, dtype=int)\n",
    "sse.head()"
   ]
  },
  {
   "cell_type": "code",
   "execution_count": 52,
   "metadata": {},
   "outputs": [
    {
     "name": "stderr",
     "output_type": "stream",
     "text": [
      "C:\\Users\\hrish\\AppData\\Local\\Continuum\\anaconda3\\lib\\site-packages\\ipykernel_launcher.py:4: SettingWithCopyWarning: \n",
      "A value is trying to be set on a copy of a slice from a DataFrame\n",
      "\n",
      "See the caveats in the documentation: http://pandas.pydata.org/pandas-docs/stable/indexing.html#indexing-view-versus-copy\n",
      "  after removing the cwd from sys.path.\n"
     ]
    }
   ],
   "source": [
    "for y in range(0,a):\n",
    "    for x in range(0,b):\n",
    "        if (sse['Day'][y] == by['Day'][x] and sse['Month'][y] == by['Month'][x] and sse['Year'][y]== by['Year'][x]):\n",
    "            sse['test'][y] = 1\n",
    "        else: continue"
   ]
  },
  {
   "cell_type": "code",
   "execution_count": 53,
   "metadata": {},
   "outputs": [],
   "source": [
    "for y in range(0,a):\n",
    "    if(sse['test'][y] == 0):\n",
    "        print(sse['Date'][y])\n",
    "    else : continue"
   ]
  },
  {
   "cell_type": "code",
   "execution_count": 54,
   "metadata": {},
   "outputs": [],
   "source": [
    "m =[]\n",
    "n = []\n",
    "for y in range(0,a):\n",
    "    for x in range(0,b):\n",
    "        if (sse['Day'][y] == by['Day'][x] and sse['Month'][y] == by['Month'][x] and sse['Year'][y]== by['Year'][x]):  \n",
    "            m.append(by['Price'][x]) \n",
    "            n.append(by['Change %'][x])\n",
    "        else: continue"
   ]
  },
  {
   "cell_type": "code",
   "execution_count": 40,
   "metadata": {},
   "outputs": [
    {
     "data": {
      "text/plain": [
       "True"
      ]
     },
     "execution_count": 40,
     "metadata": {},
     "output_type": "execute_result"
    }
   ],
   "source": [
    "len(m) == a"
   ]
  },
  {
   "cell_type": "code",
   "execution_count": 55,
   "metadata": {},
   "outputs": [],
   "source": [
    "sse['Interest Rate'] = m\n",
    "sse['Change in IR'] = n"
   ]
  },
  {
   "cell_type": "code",
   "execution_count": 56,
   "metadata": {},
   "outputs": [
    {
     "data": {
      "text/html": [
       "<div>\n",
       "<style scoped>\n",
       "    .dataframe tbody tr th:only-of-type {\n",
       "        vertical-align: middle;\n",
       "    }\n",
       "\n",
       "    .dataframe tbody tr th {\n",
       "        vertical-align: top;\n",
       "    }\n",
       "\n",
       "    .dataframe thead th {\n",
       "        text-align: right;\n",
       "    }\n",
       "</style>\n",
       "<table border=\"1\" class=\"dataframe\">\n",
       "  <thead>\n",
       "    <tr style=\"text-align: right;\">\n",
       "      <th></th>\n",
       "      <th>Date</th>\n",
       "      <th>Close</th>\n",
       "      <th>Volume</th>\n",
       "      <th>Month</th>\n",
       "      <th>Day</th>\n",
       "      <th>Year</th>\n",
       "      <th>IIP</th>\n",
       "      <th>test</th>\n",
       "      <th>Interest Rate</th>\n",
       "      <th>Change in IR</th>\n",
       "    </tr>\n",
       "  </thead>\n",
       "  <tbody>\n",
       "    <tr>\n",
       "      <th>1048</th>\n",
       "      <td>22-02-2019</td>\n",
       "      <td>7178.600098</td>\n",
       "      <td>646718000</td>\n",
       "      <td>2</td>\n",
       "      <td>22</td>\n",
       "      <td>2019</td>\n",
       "      <td>104.28</td>\n",
       "      <td>1</td>\n",
       "      <td>0.769</td>\n",
       "      <td>-0.13%</td>\n",
       "    </tr>\n",
       "    <tr>\n",
       "      <th>1049</th>\n",
       "      <td>25-02-2019</td>\n",
       "      <td>7183.700195</td>\n",
       "      <td>644937500</td>\n",
       "      <td>2</td>\n",
       "      <td>25</td>\n",
       "      <td>2019</td>\n",
       "      <td>104.28</td>\n",
       "      <td>1</td>\n",
       "      <td>0.767</td>\n",
       "      <td>2.13%</td>\n",
       "    </tr>\n",
       "    <tr>\n",
       "      <th>1050</th>\n",
       "      <td>26-02-2019</td>\n",
       "      <td>7151.100098</td>\n",
       "      <td>865719700</td>\n",
       "      <td>2</td>\n",
       "      <td>26</td>\n",
       "      <td>2019</td>\n",
       "      <td>104.28</td>\n",
       "      <td>1</td>\n",
       "      <td>0.789</td>\n",
       "      <td>2.87%</td>\n",
       "    </tr>\n",
       "    <tr>\n",
       "      <th>1051</th>\n",
       "      <td>27-02-2019</td>\n",
       "      <td>7107.200195</td>\n",
       "      <td>870721000</td>\n",
       "      <td>2</td>\n",
       "      <td>27</td>\n",
       "      <td>2019</td>\n",
       "      <td>104.28</td>\n",
       "      <td>1</td>\n",
       "      <td>0.825</td>\n",
       "      <td>4.56%</td>\n",
       "    </tr>\n",
       "    <tr>\n",
       "      <th>1052</th>\n",
       "      <td>28-02-2019</td>\n",
       "      <td>7074.700195</td>\n",
       "      <td>979616900</td>\n",
       "      <td>2</td>\n",
       "      <td>28</td>\n",
       "      <td>2019</td>\n",
       "      <td>104.28</td>\n",
       "      <td>1</td>\n",
       "      <td>0.819</td>\n",
       "      <td>-0.73%</td>\n",
       "    </tr>\n",
       "  </tbody>\n",
       "</table>\n",
       "</div>"
      ],
      "text/plain": [
       "            Date        Close     Volume  Month  Day  Year     IIP  test  \\\n",
       "1048  22-02-2019  7178.600098  646718000      2   22  2019  104.28     1   \n",
       "1049  25-02-2019  7183.700195  644937500      2   25  2019  104.28     1   \n",
       "1050  26-02-2019  7151.100098  865719700      2   26  2019  104.28     1   \n",
       "1051  27-02-2019  7107.200195  870721000      2   27  2019  104.28     1   \n",
       "1052  28-02-2019  7074.700195  979616900      2   28  2019  104.28     1   \n",
       "\n",
       "      Interest Rate Change in IR  \n",
       "1048          0.769       -0.13%  \n",
       "1049          0.767        2.13%  \n",
       "1050          0.789        2.87%  \n",
       "1051          0.825        4.56%  \n",
       "1052          0.819       -0.73%  "
      ]
     },
     "execution_count": 56,
     "metadata": {},
     "output_type": "execute_result"
    }
   ],
   "source": [
    "sse.tail()"
   ]
  },
  {
   "cell_type": "code",
   "execution_count": 57,
   "metadata": {},
   "outputs": [],
   "source": [
    "sse.drop(['Day','Month','Year', 'test'], axis =1, inplace = True)"
   ]
  },
  {
   "cell_type": "code",
   "execution_count": 58,
   "metadata": {},
   "outputs": [
    {
     "data": {
      "text/html": [
       "<div>\n",
       "<style scoped>\n",
       "    .dataframe tbody tr th:only-of-type {\n",
       "        vertical-align: middle;\n",
       "    }\n",
       "\n",
       "    .dataframe tbody tr th {\n",
       "        vertical-align: top;\n",
       "    }\n",
       "\n",
       "    .dataframe thead th {\n",
       "        text-align: right;\n",
       "    }\n",
       "</style>\n",
       "<table border=\"1\" class=\"dataframe\">\n",
       "  <thead>\n",
       "    <tr style=\"text-align: right;\">\n",
       "      <th></th>\n",
       "      <th>Date</th>\n",
       "      <th>Close</th>\n",
       "      <th>Volume</th>\n",
       "      <th>IIP</th>\n",
       "      <th>Interest Rate</th>\n",
       "      <th>Change in IR</th>\n",
       "    </tr>\n",
       "  </thead>\n",
       "  <tbody>\n",
       "    <tr>\n",
       "      <th>0</th>\n",
       "      <td>02-01-2015</td>\n",
       "      <td>6547.799805</td>\n",
       "      <td>367562200</td>\n",
       "      <td>99.34</td>\n",
       "      <td>0.295</td>\n",
       "      <td>-4.22%</td>\n",
       "    </tr>\n",
       "    <tr>\n",
       "      <th>1</th>\n",
       "      <td>05-01-2015</td>\n",
       "      <td>6417.200195</td>\n",
       "      <td>728001100</td>\n",
       "      <td>99.34</td>\n",
       "      <td>0.311</td>\n",
       "      <td>2.64%</td>\n",
       "    </tr>\n",
       "    <tr>\n",
       "      <th>2</th>\n",
       "      <td>06-01-2015</td>\n",
       "      <td>6366.500000</td>\n",
       "      <td>769463100</td>\n",
       "      <td>99.34</td>\n",
       "      <td>0.303</td>\n",
       "      <td>-2.57%</td>\n",
       "    </tr>\n",
       "    <tr>\n",
       "      <th>3</th>\n",
       "      <td>07-01-2015</td>\n",
       "      <td>6419.799805</td>\n",
       "      <td>688211500</td>\n",
       "      <td>99.34</td>\n",
       "      <td>0.322</td>\n",
       "      <td>6.27%</td>\n",
       "    </tr>\n",
       "    <tr>\n",
       "      <th>4</th>\n",
       "      <td>08-01-2015</td>\n",
       "      <td>6570.000000</td>\n",
       "      <td>882740200</td>\n",
       "      <td>99.34</td>\n",
       "      <td>0.346</td>\n",
       "      <td>7.45%</td>\n",
       "    </tr>\n",
       "  </tbody>\n",
       "</table>\n",
       "</div>"
      ],
      "text/plain": [
       "         Date        Close     Volume    IIP  Interest Rate Change in IR\n",
       "0  02-01-2015  6547.799805  367562200  99.34          0.295       -4.22%\n",
       "1  05-01-2015  6417.200195  728001100  99.34          0.311        2.64%\n",
       "2  06-01-2015  6366.500000  769463100  99.34          0.303       -2.57%\n",
       "3  07-01-2015  6419.799805  688211500  99.34          0.322        6.27%\n",
       "4  08-01-2015  6570.000000  882740200  99.34          0.346        7.45%"
      ]
     },
     "execution_count": 58,
     "metadata": {},
     "output_type": "execute_result"
    }
   ],
   "source": [
    "sse.head()"
   ]
  },
  {
   "cell_type": "code",
   "execution_count": 59,
   "metadata": {},
   "outputs": [],
   "source": [
    "sse.to_csv(r'C:\\Users\\hrish\\Desktop\\Summer Project\\Data\\FTSE 100 SE Final.csv')"
   ]
  },
  {
   "cell_type": "code",
   "execution_count": null,
   "metadata": {},
   "outputs": [],
   "source": []
  }
 ],
 "metadata": {
  "kernelspec": {
   "display_name": "Python 3",
   "language": "python",
   "name": "python3"
  },
  "language_info": {
   "codemirror_mode": {
    "name": "ipython",
    "version": 3
   },
   "file_extension": ".py",
   "mimetype": "text/x-python",
   "name": "python",
   "nbconvert_exporter": "python",
   "pygments_lexer": "ipython3",
   "version": "3.6.5"
  }
 },
 "nbformat": 4,
 "nbformat_minor": 2
}
